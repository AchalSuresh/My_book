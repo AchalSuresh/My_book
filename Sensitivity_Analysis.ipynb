{
 "cells": [
  {
   "cell_type": "code",
   "execution_count": 4,
   "metadata": {},
   "outputs": [
    {
     "name": "stdout",
     "output_type": "stream",
     "text": [
      "The first number: 1\n",
      "The second number: 1\n",
      "The third number: 1\n",
      "Initial y :  5.882132011203685\n",
      "New Value y:  5.888028956994815\n",
      "Sensitivity change for x1:  0.5896945791130648\n",
      "New Value y:  5.945487294702738\n",
      "Sensitivity change for x2:  6.335528349905317\n",
      "New Value y:  5.945487294702738\n",
      "Sensitivity change for x3:  0.34167096281851883\n"
     ]
    }
   ],
   "source": [
    "import math\n",
    "\n",
    "a=7\n",
    "b=0.1\n",
    "x1 = float(input(\"The first number: \"))\n",
    "x2 = float(input(\"The second number: \"))\n",
    "x3 = float(input(\"The third number: \"))\n",
    "del_x=0.01\n",
    "\n",
    "y_base = math.sin(x1)+a*(math.sin(x2))**2+b*(x3)**4*math.sin(x1)\n",
    "print(\"Initial y : \",y_base)\n",
    "\n",
    "x1 = del_x + x1\n",
    "y_x1 = math.sin(x1)+a*(math.sin(x2))**2+b*(x3)**4*math.sin(x1)\n",
    "print(\"New Value y: \",y_x1)\n",
    "\n",
    "s_x1 = (y_x1-y_base)/del_x \n",
    "print(\"Sensitivity change for x1: \",s_x1)\n",
    "\n",
    "x1 = x1 - del_x\n",
    "x2 = x2 + del_x\n",
    "y_x2 = math.sin(x1)+a*(math.sin(x2))**2+b*(x3)**4*math.sin(x1)\n",
    "print(\"New Value y: \",y_x2)\n",
    "\n",
    "s_x2 = (y_x2-y_base)/del_x \n",
    "print(\"Sensitivity change for x2: \",s_x2)\n",
    "\n",
    "x2 = x2- del_x\n",
    "x3 = x3 +del_x\n",
    "y_x3 = math.sin(x1)+a*(math.sin(x2))**2+b*(x3)**4*math.sin(x1)\n",
    "print(\"New Value y: \",y_x2)\n",
    "\n",
    "s_x3 = (y_x3-y_base)/del_x \n",
    "print(\"Sensitivity change for x3: \",s_x3)\n"
   ]
  }
 ],
 "metadata": {
  "kernelspec": {
   "display_name": "Python 3",
   "language": "python",
   "name": "python3"
  },
  "language_info": {
   "codemirror_mode": {
    "name": "ipython",
    "version": 3
   },
   "file_extension": ".py",
   "mimetype": "text/x-python",
   "name": "python",
   "nbconvert_exporter": "python",
   "pygments_lexer": "ipython3",
   "version": "3.7.3"
  }
 },
 "nbformat": 4,
 "nbformat_minor": 2
}
