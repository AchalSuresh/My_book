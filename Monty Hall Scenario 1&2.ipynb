{
 "cells": [
  {
   "cell_type": "code",
   "execution_count": 97,
   "metadata": {},
   "outputs": [
    {
     "name": "stdout",
     "output_type": "stream",
     "text": [
      "Number of wins without switching: 158\n"
     ]
    }
   ],
   "source": [
    "import random\n",
    "\n",
    "def monty_problem(num_trials):\n",
    "    '''\n",
    "    The method can be used to simulate the likelihood of winning without switching the door\n",
    "    '''\n",
    "    win_s1 = 0\n",
    "    for i in range(num_trials):\n",
    "        \n",
    "        door_choice = 1\n",
    "        winning_door = random.randint(1,3)\n",
    "    \n",
    "        l = [1,2,3]\n",
    "    \n",
    "        l.remove(winning_door)\n",
    "        if winning_door != door_choice:\n",
    "            l.remove(door_choice)\n",
    "            \n",
    "    # The door that the host will open has the goat in it\n",
    "        open_door = random.choice(l)\n",
    "      \n",
    "        if door_choice == winning_door:\n",
    "            win_s1 += 1\n",
    "    return win_s1    \n",
    "\n",
    "wins_without_switch = monty_problem(500)\n",
    "print('Number of wins without switching: {}'\n",
    "            .format(wins_without_switch))\n"
   ]
  },
  {
   "cell_type": "code",
   "execution_count": 100,
   "metadata": {},
   "outputs": [
    {
     "name": "stdout",
     "output_type": "stream",
     "text": [
      "Number of wins with switching: 332\n"
     ]
    }
   ],
   "source": [
    "import random\n",
    "def monty_problem(num_trials):\n",
    "    '''\n",
    "    The method can be used to simulate the likelihood of winning after switching the door\n",
    "    '''   \n",
    "    win_s1 = 0\n",
    "    for i in range(num_trials):\n",
    "        \n",
    "        door_choice = 1\n",
    "        winning_door = random.randint(1,3)\n",
    "    \n",
    "        l = [1,2,3]\n",
    "    \n",
    "        l.remove(winning_door)\n",
    "        if winning_door != door_choice:\n",
    "            l.remove(door_choice)\n",
    "            \n",
    "        # The door the game show host will open\n",
    "        open_door = random.choice(l)\n",
    "        l = [1,2,3]\n",
    "        l.remove(door_choice)\n",
    "        l.remove(open_door)\n",
    "        \n",
    "        # Switching the door after the host opens one of the doors\n",
    "        door_choice = l[0]\n",
    "        if door_choice == winning_door:\n",
    "               win_s1 += 1\n",
    "\n",
    "    return win_s1   \n",
    "\n",
    "wins_with_switch = monty_problem(500)\n",
    "\n",
    "print('Number of wins with switching: {}'\n",
    "            .format(wins_with_switch))"
   ]
  }
 ],
 "metadata": {
  "kernelspec": {
   "display_name": "Python 3",
   "language": "python",
   "name": "python3"
  },
  "language_info": {
   "codemirror_mode": {
    "name": "ipython",
    "version": 3
   },
   "file_extension": ".py",
   "mimetype": "text/x-python",
   "name": "python",
   "nbconvert_exporter": "python",
   "pygments_lexer": "ipython3",
   "version": "3.7.3"
  }
 },
 "nbformat": 4,
 "nbformat_minor": 2
}
