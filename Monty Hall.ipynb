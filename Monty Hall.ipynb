{
 "cells": [
  {
   "cell_type": "code",
   "execution_count": 1,
   "metadata": {},
   "outputs": [
    {
     "name": "stdout",
     "output_type": "stream",
     "text": [
      "175.0\n",
      "344.0\n"
     ]
    }
   ],
   "source": [
    "from random import randint\n",
    "\n",
    "import matplotlib.pyplot as plt\n",
    "import random\n",
    "\n",
    "nb_simulations = 500\n",
    "\n",
    "#----------------------------------------------------------------------------------------#\n",
    "# simulation 1: player keeps his first choice \n",
    "\n",
    "win_s1_counts = 0\n",
    "\n",
    "for i in range(nb_simulations):\n",
    "\n",
    "\t# select randomly behind which door is the car \n",
    "\n",
    "\twinning_door = randint(1,3)\n",
    "\n",
    "\t# player pick a door \n",
    "\n",
    "\tplayer_first_door = randint(1,3)\n",
    "\n",
    "\t# Game host open a door with a goat behind \n",
    "\n",
    "\tl = [1,2,3]\n",
    "\n",
    "\tl.remove(winning_door)\n",
    "\tif player_first_door != winning_door : l.remove(player_first_door)\n",
    "\n",
    "\tgame_host_opened = random.choice(l)\n",
    "\n",
    "\t# player keeps his first choice \n",
    "\n",
    "\tif player_first_door == winning_door :\n",
    "\n",
    "\t\twin_s1_counts = win_s1_counts + 1\n",
    "\n",
    "#----------------------------------------------------------------------------------------#\n",
    "# simulation 2: player changes his first choice \n",
    "\n",
    "win_s2_counts = 0\n",
    "\n",
    "for i in range(nb_simulations):\n",
    "\n",
    "\t# select randomly behind which door is the car \n",
    "\n",
    "\twinning_door = randint(1,3)\n",
    "\n",
    "\t# player pick a door \n",
    "\n",
    "\tplayer_first_door = randint(1,3)\n",
    "\n",
    "\t# Game host open a door with a goat behind \n",
    "\n",
    "\tdoor_list = [1,2,3]\n",
    "\n",
    "\tdoor_list.remove(winning_door)\n",
    "\tif player_first_door != winning_door : door_list.remove(player_first_door)\n",
    "\n",
    "\tgame_host_opened = random.choice(door_list)\n",
    "\n",
    "\t# player changes his first choice \n",
    "\n",
    "\tdoor_list = [1,2,3]\n",
    "\n",
    "\tdoor_list.remove(game_host_opened)\n",
    "\tdoor_list.remove(player_first_door)\n",
    "\n",
    "\tplayer_new_door = door_list[0]\n",
    "\n",
    "\tif player_new_door == winning_door :\n",
    "\n",
    "\t\twin_s2_counts = win_s2_counts + 1\n",
    "\n",
    "\n",
    "#----------------------------------------------------------------------------------------#\n",
    "# print results\n",
    "\n",
    "print( 1.0 * win_s1_counts )\n",
    "print( 1.0 * win_s2_counts )"
   ]
  },
  {
   "cell_type": "code",
   "execution_count": 12,
   "metadata": {},
   "outputs": [
    {
     "name": "stdout",
     "output_type": "stream",
     "text": [
      "Proportion of wins without switching: 41\n",
      "Proportion of wins with switching: 66\n"
     ]
    }
   ],
   "source": [
    "import random\n",
    "\n",
    "def monty_problem(num_trials, switch_choice):\n",
    "    win_s1 = 0\n",
    "    win_s2 = 0\n",
    "    for i in range(num_trials):\n",
    "        \n",
    "        door_choice = random.randint(1,3)\n",
    "        winning_door = random.randint(1,3)\n",
    "    \n",
    "        l = [1,2,3]\n",
    "    \n",
    "        l.remove(winning_door)\n",
    "        if winning_door != door_choice:\n",
    "            l.remove(door_choice)\n",
    "        open_door = random.choice(l)\n",
    "        if switch_choice == True:\n",
    "            l = [1,2,3]\n",
    "            l.remove(door_choice)\n",
    "            l.remove(open_door)\n",
    "            door_choice = l[0]\n",
    "            if door_choice == winning_door:\n",
    "                win_s2 += 1\n",
    "        if door_choice == winning_door:\n",
    "            win_s1 += 1\n",
    "    return win_s1\n",
    "    return win_s2\n",
    "    \n",
    "\n",
    "nwins_without_switch = monty_problem(100, False)\n",
    "nwins_with_switch = monty_problem(100, True)\n",
    "\n",
    "\n",
    "print('Proportion of wins without switching: {}'\n",
    "            .format(nwins_without_switch))\n",
    "print('Proportion of wins with switching: {}'\n",
    "            .format(nwins_with_switch))\n"
   ]
  },
  {
   "cell_type": "code",
   "execution_count": 78,
   "metadata": {},
   "outputs": [],
   "source": [
    "rst = monty_problem(500, True)"
   ]
  }
 ],
 "metadata": {
  "kernelspec": {
   "display_name": "Python 3",
   "language": "python",
   "name": "python3"
  },
  "language_info": {
   "codemirror_mode": {
    "name": "ipython",
    "version": 3
   },
   "file_extension": ".py",
   "mimetype": "text/x-python",
   "name": "python",
   "nbconvert_exporter": "python",
   "pygments_lexer": "ipython3",
   "version": "3.7.3"
  }
 },
 "nbformat": 4,
 "nbformat_minor": 2
}
