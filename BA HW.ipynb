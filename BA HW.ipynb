{
 "cells": [
  {
   "cell_type": "code",
   "execution_count": 78,
   "metadata": {},
   "outputs": [],
   "source": [
    "import numpy as np \n",
    "\n",
    "def sens(w,w1,l1):\n",
    "   # mylist = [2,2.5,3,3.5,4,4.5,5,5.5,6,6.5,7,7.5,8,8.5,9]\n",
    "    for i in np.arange(2,9.5,.5):\n",
    "        b1=3.1\n",
    "        p1 = (15.5 - w)*.3\n",
    "       # print(p1)\n",
    "        p2 = (15.5 -w -i)*.7\n",
    "       # print(p2)\n",
    "        p3 = p1+ p2\n",
    "        E1 = p3*w1 + b1 *l1\n",
    "       # print(i)\n",
    "        print(E1)\n",
    "     "
   ]
  },
  {
   "cell_type": "code",
   "execution_count": 75,
   "metadata": {},
   "outputs": [
    {
     "data": {
      "text/plain": [
       "array([0. , 0.1, 0.2, 0.3, 0.4, 0.5, 0.6, 0.7, 0.8, 0.9])"
      ]
     },
     "execution_count": 75,
     "metadata": {},
     "output_type": "execute_result"
    }
   ],
   "source": [
    "import numpy as np\n",
    "np.arange(0.0, 1.0, 0.1)"
   ]
  },
  {
   "cell_type": "code",
   "execution_count": 79,
   "metadata": {},
   "outputs": [
    {
     "name": "stdout",
     "output_type": "stream",
     "text": [
      "5.0\n",
      "4.6675\n",
      "4.335\n",
      "4.0024999999999995\n",
      "3.67\n",
      "3.3374999999999995\n",
      "3.005\n",
      "2.6724999999999994\n",
      "2.34\n",
      "2.0075\n",
      "1.675\n",
      "1.3425\n",
      "1.0100000000000002\n",
      "0.6775\n",
      "0.345\n"
     ]
    }
   ],
   "source": [
    "sens(9,.95,.05)"
   ]
  }
 ],
 "metadata": {
  "kernelspec": {
   "display_name": "Python 3",
   "language": "python",
   "name": "python3"
  },
  "language_info": {
   "codemirror_mode": {
    "name": "ipython",
    "version": 3
   },
   "file_extension": ".py",
   "mimetype": "text/x-python",
   "name": "python",
   "nbconvert_exporter": "python",
   "pygments_lexer": "ipython3",
   "version": "3.7.3"
  }
 },
 "nbformat": 4,
 "nbformat_minor": 2
}
